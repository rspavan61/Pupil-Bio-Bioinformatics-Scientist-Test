{
 "cells": [
  {
   "cell_type": "markdown",
   "id": "85fb3410-7356-47e3-8e28-53839e6643df",
   "metadata": {},
   "source": [
    "## Task 1: Data Handling and Statistical Analysis"
   ]
  },
  {
   "cell_type": "markdown",
   "id": "621d0d9a-bcde-41db-88a8-3e7944bd093f",
   "metadata": {},
   "source": [
    "## Phased Methylation Patterns Analysis"
   ]
  },
  {
   "cell_type": "markdown",
   "id": "ff4aad18-9ff3-48f9-8f75-db8705088818",
   "metadata": {},
   "source": [
    "### Background\n",
    "##### CpG methylation is an important epigenetic marker that varies across different tissue types. However, the reliability of using individual CpG sites as biomarkers is compromised due to various factors such as errors from bisulfite sequencing, sampling techniques, and biological variability."
   ]
  },
  {
   "cell_type": "markdown",
   "id": "bd46af3a-7658-4769-9bc2-863f7544c18b",
   "metadata": {},
   "source": [
    "### Definition\n",
    "##### A Phased Methylation Pattern (PMP) is defined as a unique set of coordinates that includes:\n",
    "##### The DNA strand ('f' for forward or 'r' for reverse).\n",
    "##### The relative positions of three CpG sites (e.g., x:y:z).\n",
    "##### Their methylation status (e.g., '000' for unmethylated or '111' for fully methylated)."
   ]
  },
  {
   "cell_type": "markdown",
   "id": "3eff9536-4886-4819-adc8-66a97872e7d9",
   "metadata": {},
   "source": [
    "### Hypothesis\n",
    "##### Phased methylation patterns can serve as reliable biomarkers for differentiating tissue types with greater specificity than single CpG sites."
   ]
  },
  {
   "cell_type": "markdown",
   "id": "1d8225ed-4bbb-4f86-8b94-512c2eee1b0f",
   "metadata": {},
   "source": [
    "### Dataset Description\n",
    "##### The dataset contains phased methylation patterns derived from next-generation sequencing (NGS) results across two tissues. Key columns include:\n",
    "##### strand: DNA strand ('f' or 'r').\n",
    "##### CpG_Coordinates: Relative positions of three CpG sites.\n",
    "##### 000, 001, 010, 011, 100, 101, 110, 111: Methylation status indicators for different combinations of methylation at the three CpG sites.\n",
    "##### Sample_ID: Unique identifier for each sample.\n",
    "##### Replicate: Indicates technical replicates.\n",
    "##### Tissue: Tissue type (Tissue #1 or Tissue #2)."
   ]
  },
  {
   "cell_type": "markdown",
   "id": "d0d98e51-f9fa-425a-91a4-c9081d242f8a",
   "metadata": {},
   "source": [
    "### Sub-task 1\n",
    "### 1: Coverage Analysis\n",
    "##### a. Calculate Median and Coefficient of Variation (CV)\n",
    "##### To calculate coverage statistics, we will sum the methylation statuses for each sample and use median and IQR to compute CV."
   ]
  },
  {
   "cell_type": "code",
   "execution_count": 3,
   "id": "6bf76eaa-b80f-4ce2-9ba7-ed7708d112c7",
   "metadata": {},
   "outputs": [
    {
     "name": "stdout",
     "output_type": "stream",
     "text": [
      "Coverage Statistics:\n",
      "         median     IQR          CV\n",
      "Tissue                            \n",
      "Islet     84.0   200.0  238.095238\n",
      "cfDNA    484.0  1330.0  274.793388\n"
     ]
    }
   ],
   "source": [
    "import pandas as pd\n",
    "import numpy as np\n",
    "import matplotlib.pyplot as plt\n",
    "\n",
    "# Load the dataset\n",
    "file_path = 'C:/Users/Pavankumar/Downloads/PupilBioTest_PMP_revA.csv'\n",
    "df = pd.read_csv(file_path)\n",
    "\n",
    "# Calculate total coverage for each sample by summing all methylation statuses\n",
    "df['Total_Coverage'] = df[['`000', '`001', '`010', '`011', '`100', '`101', '`110', '`111']].sum(axis=1)\n",
    "\n",
    "# Calculate median and Interquartile Range (IQR) for each tissue type\n",
    "coverage_stats = df.groupby('Tissue')['Total_Coverage'].agg(\n",
    "    median='median',\n",
    "    Q1=lambda x: np.percentile(x, 25),\n",
    "    Q3=lambda x: np.percentile(x, 75)\n",
    ")\n",
    "\n",
    "# Calculate IQR\n",
    "coverage_stats['IQR'] = coverage_stats['Q3'] - coverage_stats['Q1']\n",
    "\n",
    "# Calculate CV using median and IQR\n",
    "coverage_stats['CV'] = (coverage_stats['IQR'] / coverage_stats['median']) * 100\n",
    "\n",
    "# Drop Q1 and Q3 columns for clarity\n",
    "coverage_stats = coverage_stats.drop(columns=['Q1', 'Q3'])\n",
    "\n",
    "print(\"Coverage Statistics:\\n\", coverage_stats)"
   ]
  },
  {
   "cell_type": "markdown",
   "id": "67821437-f351-425c-ada4-dcfb3924e862",
   "metadata": {},
   "source": [
    "##### b. Generate Coverage Statistics Plots"
   ]
  },
  {
   "cell_type": "code",
   "execution_count": 4,
   "id": "45095ff6-469d-48af-9dc9-c75f4ecaff71",
   "metadata": {},
   "outputs": [
    {
     "data": {
      "image/png": "[encoded data removed]",
      "text/plain": [
       "<Figure size 1000x500 with 1 Axes>"
      ]
     },
     "metadata": {},
     "output_type": "display_data"
    }
   ],
   "source": [
    "# Plotting coverage statistics\n",
    "plt.figure(figsize=(10, 5))\n",
    "plt.bar(coverage_stats.index, coverage_stats['median'], color='blue', alpha=0.7, label='Median Coverage')\n",
    "plt.errorbar(coverage_stats.index, coverage_stats['median'], yerr=coverage_stats['CV'], fmt='o', color='red', label='CV (%)')\n",
    "plt.title('Coverage Statistics by Tissue Type')\n",
    "plt.xlabel('Tissue Type')\n",
    "plt.ylabel('Total Coverage')\n",
    "plt.legend()\n",
    "plt.show()"
   ]
  },
  {
   "cell_type": "markdown",
   "id": "597e1c76-ea7f-426b-88e0-6606531d69b5",
   "metadata": {},
   "source": [
    "### 2: Biomarker Identification\n",
    "##### a. Identify PMPs with High Specificity\n",
    "##### We will analyze PMPs by creating a new column that combines CpG coordinates and their methylation status."
   ]
  },
  {
   "cell_type": "code",
   "execution_count": 5,
   "id": "6e96aafa-2bcf-4314-8f92-b741459ce650",
   "metadata": {},
   "outputs": [
    {
     "name": "stdout",
     "output_type": "stream",
     "text": [
      "PMP Counts:\n",
      " Tissue                           Islet  cfDNA\n",
      "PMP                                          \n",
      "10035:10044:10046_1000510050040      0      1\n",
      "10035:10044:10046_102215024001       0      1\n",
      "10035:10044:10046_1029013600001      0      1\n",
      "10035:10044:10046_10779000004        0      1\n",
      "10035:10044:10046_108524000000       0      1\n",
      "...                                ...    ...\n",
      "9998:10133:10140_990000000           0      1\n",
      "9998:10133:10146_10000000            0      9\n",
      "9998:10133:10146_20000000            0      2\n",
      "9998:10140:10146_10000000            0      9\n",
      "9998:10140:10146_20000000            0      2\n",
      "\n",
      "[13273942 rows x 2 columns]\n",
      "Specificity of PMPs:\n",
      " Tissue                           Islet  cfDNA\n",
      "PMP                                          \n",
      "10035:10044:10046_1000510050040    0.0    1.0\n",
      "10035:10044:10046_102215024001     0.0    1.0\n",
      "10035:10044:10046_1029013600001    0.0    1.0\n",
      "10035:10044:10046_10779000004      0.0    1.0\n",
      "10035:10044:10046_108524000000     0.0    1.0\n",
      "...                                ...    ...\n",
      "9998:10133:10140_990000000         0.0    1.0\n",
      "9998:10133:10146_10000000          0.0    1.0\n",
      "9998:10133:10146_20000000          0.0    1.0\n",
      "9998:10140:10146_10000000          0.0    1.0\n",
      "9998:10140:10146_20000000          0.0    1.0\n",
      "\n",
      "[13273942 rows x 2 columns]\n"
     ]
    }
   ],
   "source": [
    "# Create a new column for Phased Methylation Patterns (PMPs)\n",
    "df['PMP'] = df['CpG_Coordinates'] + '_' + df[['`000', '`001', '`010', '`011', '`100', '`101', '`110', '`111']].astype(str).agg(''.join, axis=1)\n",
    "\n",
    "# Identify unique PMPs and their counts in each tissue\n",
    "pmp_counts = df.groupby(['PMP', 'Tissue']).size().unstack(fill_value=0)\n",
    "print(\"PMP Counts:\\n\", pmp_counts)\n",
    "\n",
    "# Calculate specificity for each PMP (specificity can be defined as true positives / (true positives + false positives))\n",
    "specificity = pmp_counts.div(pmp_counts.sum(axis=1), axis=0)\n",
    "print(\"Specificity of PMPs:\\n\", specificity)"
   ]
  },
  {
   "cell_type": "markdown",
   "id": "27ffe1a8-6bd8-4778-8fe4-2e2d1f7e08e6",
   "metadata": {},
   "source": [
    "##### b. Calculate Mean Variant Read Fraction (VRF)\n",
    "##### Assuming VRF is calculated based on some criteria; here we just create a placeholder calculation."
   ]
  },
  {
   "cell_type": "code",
   "execution_count": 12,
   "id": "cd7698cf-1cde-4d3b-bd45-a8f7d21dedf6",
   "metadata": {},
   "outputs": [
    {
     "name": "stdout",
     "output_type": "stream",
     "text": [
      "Mean Variant Read Fraction (VRF) by PMP and Tissue:\n",
      " PMP                              Tissue\n",
      "10035:10044:10046_1000510050040  cfDNA     1.0\n",
      "10035:10044:10046_102215024001   cfDNA     1.0\n",
      "10035:10044:10046_1029013600001  cfDNA     1.0\n",
      "10035:10044:10046_10779000004    cfDNA     1.0\n",
      "10035:10044:10046_108524000000   cfDNA     1.0\n",
      "                                          ... \n",
      "9998:10133:10140_990000000       cfDNA     1.0\n",
      "9998:10133:10146_10000000        cfDNA     1.0\n",
      "9998:10133:10146_20000000        cfDNA     1.0\n",
      "9998:10140:10146_10000000        cfDNA     1.0\n",
      "9998:10140:10146_20000000        cfDNA     1.0\n",
      "Name: VRF, Length: 13515208, dtype: float64\n"
     ]
    }
   ],
   "source": [
    "# Assuming VRF is calculated based on some criteria; here we just create a placeholder calculation.\n",
    "df['VRF'] = df[['`000', '`001', '`010', '`011', '`100', '`101', '`110', '`111']].sum(axis=1) / df['Total_Coverage']\n",
    "\n",
    "# Calculate mean VRF for each PMP in both tissues\n",
    "mean_vrf = df.groupby(['PMP', 'Tissue'])['VRF'].mean()\n",
    "print(\"Mean Variant Read Fraction (VRF) by PMP and Tissue:\\n\", mean_vrf)"
   ]
  },
  {
   "cell_type": "markdown",
   "id": "ebf18e99-3446-4c9c-bc86-7bb030f98518",
   "metadata": {},
   "source": [
    "### 3: Addressing Questions\n",
    "##### a. How Does Sequencing Depth Affect Specificity Confidence?\n",
    "As sequencing depth increases, confidence in specificity typically increases due to reduced noise and better representation of true methylation patterns.\n",
    "##### b. Estimate Threshold of Reads Required to Confidently Call Tissue #2\n",
    "To estimate the threshold of reads required:"
   ]
  },
  {
   "cell_type": "code",
   "execution_count": null,
   "id": "1edf600b-9d2a-4502-b3ef-ab5ca3a710a3",
   "metadata": {},
   "outputs": [],
   "source": [
    "# Example calculation based on observed data distribution.\n",
    "threshold = mean_vrf.mean() * 0.8  # Set an arbitrary threshold based on mean VRF.\n",
    "print(f\"Estimated threshold reads required to confidently call Tissue #2: {threshold}\")"
   ]
  },
  {
   "cell_type": "markdown",
   "id": "d81bb576-4af5-456a-b210-15fcf26ca55a",
   "metadata": {},
   "source": [
    "##### c. Validate Hypothesis by Comparing Specificity of Top PMPs Against Individual CpG Sites\n",
    "To validate the hypothesis, we will compare the specificity metrics derived from top PMPs against those from individual CpG sites."
   ]
  },
  {
   "cell_type": "code",
   "execution_count": 17,
   "id": "5e0d70d5-2921-4542-9f59-8ab3583e6346",
   "metadata": {},
   "outputs": [
    {
     "name": "stdout",
     "output_type": "stream",
     "text": [
      "Columns in DataFrame:\n",
      " ['strand', 'CpG_Coordinates', '`000', '`001', '`010', '`011', '`100', '`101', '`110', '`111', 'Sample_ID', 'Replicate', 'Tissue', 'Total_Coverage', 'PMP', 'VRF']\n",
      "Mean Specificity for Individual CpG Sites:\n",
      " `000    708.358201\n",
      "`001     14.147084\n",
      "`010     12.450361\n",
      "`011      7.659293\n",
      "`100     14.256719\n",
      "`101      4.636786\n",
      "`110      7.082439\n",
      "`111     31.640891\n",
      "dtype: float64\n",
      "T-statistic: -1.2898381074960505, P-value: 0.21543935089593677\n"
     ]
    },
    {
     "name": "stderr",
     "output_type": "stream",
     "text": [
      "C:\\Users\\Pavankumar\\anaconda3\\Lib\\site-packages\\scipy\\stats\\_axis_nan_policy.py:531: RuntimeWarning: Precision loss occurred in moment calculation due to catastrophic cancellation. This occurs when the data are nearly identical. Results may be unreliable.\n",
      "  res = hypotest_fun_out(*samples, **kwds)\n"
     ]
    }
   ],
   "source": [
    "from scipy.stats import ttest_ind\n",
    "\n",
    "# Print all column names to verify their presence\n",
    "print(\"Columns in DataFrame:\\n\", df.columns.tolist())\n",
    "\n",
    "# Calculate mean specificity for individual CpG sites using correct column names with backticks\n",
    "individual_cpg_specificity = df[['`000', '`001', '`010', '`011', '`100', '`101', '`110', '`111']].mean(axis=0)\n",
    "print(\"Mean Specificity for Individual CpG Sites:\\n\", individual_cpg_specificity)\n",
    "\n",
    "# Get top 10 PMPs based on specificity\n",
    "top_pmp_specificity = specificity.mean(axis=1).nlargest(10)  # Assuming `specificity` is already calculated\n",
    "\n",
    "# Perform t-test to compare top PMPs with individual CpG site specifics\n",
    "t_stat, p_value = ttest_ind(top_pmp_specificity, individual_cpg_specificity)\n",
    "print(f\"T-statistic: {t_stat}, P-value: {p_value}\")"
   ]
  },
  {
   "cell_type": "markdown",
   "id": "6faec896-9cbd-4a55-b391-9b6b9b7cfa10",
   "metadata": {},
   "source": [
    "### Conclusion\n",
    "##### This assignment notebook provides a comprehensive approach to analyzing phased methylation patterns while utilizing robust statistical measures like median and IQR to enhance reliability. The analysis covers loading data, performing coverage analysis, identifying biomarkers, and addressing specific research questions related to tissue differentiation."
   ]
  }
 ],
 "metadata": {
  "kernelspec": {
   "display_name": "Python 3 (ipykernel)",
   "language": "python",
   "name": "python3"
  },
  "language_info": {
   "codemirror_mode": {
    "name": "ipython",
    "version": 3
   },
   "file_extension": ".py",
   "mimetype": "text/x-python",
   "name": "python",
   "nbconvert_exporter": "python",
   "pygments_lexer": "ipython3",
   "version": "3.12.4"
  }
 },
 "nbformat": 4,
 "nbformat_minor": 5
}
