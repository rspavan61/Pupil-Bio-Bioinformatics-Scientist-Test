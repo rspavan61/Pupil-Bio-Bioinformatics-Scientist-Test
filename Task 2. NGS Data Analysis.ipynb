{
 "cells": [
  {
   "cell_type": "markdown",
   "id": "94bd2ea0",
   "metadata": {},
   "source": [
    "\n",
    "# Task 2: NGS Data Analysis\n",
    "\n",
    "## Objective\n",
    "This notebook demonstrates the process of aligning samples to the human genome, identifying somatic mutations, and estimating background mutation levels. The tasks align with the following sub-objectives:\n",
    "\n",
    "### Sub-Tasks:\n",
    "1. **Align the samples to the human genome using tools like BWA or Bowtie2** .\n",
    "2. **Identify somatic mutations present in the cancer sample but absent in the normal tissue**:\n",
    "\n",
    "   - Benchmark using established tools (e.g., Mutect2, VarScan2).\n",
    "\n",
    "   - Develop custom code for mutation detection.\n",
    "3. **Calculate the median background mutation level** and the reads per million required for confident mutation calling .\n",
    "\n",
    "---\n"
   ]
  },
  {
   "cell_type": "code",
   "execution_count": 4,
   "id": "48dd6cc4-17e0-48f1-bfa5-1fa285e1b86f",
   "metadata": {},
   "outputs": [
    {
     "name": "stdout",
     "output_type": "stream",
     "text": [
      "Detected SNPs: 0\n",
      "Detected Indels: 0\n"
     ]
    }
   ],
   "source": [
    "def count_variants(vcf_file):\n",
    "    with open(vcf_file, 'r') as file:\n",
    "        lines = file.readlines()\n",
    "    \n",
    "    # Count non-header lines (variants)\n",
    "    variant_count = sum(1 for line in lines if not line.startswith('#'))\n",
    "    return variant_count\n",
    "\n",
    "# Example usage\n",
    "snp_count = count_variants(\"C:/Users/Pavankumar/Downloads/ncbi_dataset/ncbi_dataset/data/GCF_000001405.40/somatic_output.snp.vcf\")\n",
    "indel_count = count_variants(\"C:/Users/Pavankumar/Downloads/ncbi_dataset/ncbi_dataset/data/GCF_000001405.40/somatic_output.indel.vcf\")\n",
    "\n",
    "print(f\"Detected SNPs: {snp_count}\")\n",
    "print(f\"Detected Indels: {indel_count}\")\n"
   ]
  },
  {
   "cell_type": "markdown",
   "id": "fdf7acbc",
   "metadata": {},
   "source": [
    "\n",
    "## Step 1: Count Variants in VCF Files\n",
    "\n",
    "### Description:\n",
    "This code counts the number of Single Nucleotide Polymorphisms (SNPs) and Insertions/Deletions (Indels) from VCF files. This provides an overview of the variant distribution in the samples.\n",
    "This code reads VCF files and loads variant data into a pandas DataFrame for further analysis. Each row in the DataFrame corresponds to a variant.\n",
    "\n",
    "### Input:\n",
    "- `somatic_output.snp.vcf`: SNPs detected in the sample.\n",
    "- `somatic_output.indel.vcf`: Indels detected in the sample.\n",
    "\n",
    "### Output:\n",
    "The number of SNPs and Indels detected in the VCF files.\n"
   ]
  },
  {
   "cell_type": "code",
   "execution_count": 7,
   "id": "5e31b983-6a9b-475a-bff0-1d073457c720",
   "metadata": {},
   "outputs": [
    {
     "name": "stdout",
     "output_type": "stream",
     "text": [
      "Total SNPs: 0\n",
      "Total Indels: 0\n"
     ]
    }
   ],
   "source": [
    "import pandas as pd\n",
    "\n",
    "def read_vcf_to_dataframe(vcf_file):\n",
    "    variant_data = []\n",
    "\n",
    "    with open(vcf_file) as f:\n",
    "        for line in f:\n",
    "            if line.startswith('#'):\n",
    "                continue  \n",
    "            else:\n",
    "                \n",
    "                fields = line.strip().split('\\t')\n",
    "                variant_data.append(fields) \n",
    "\n",
    "  \n",
    "    df = pd.DataFrame(variant_data, columns=['CHROM', 'POS', 'ID', 'REF', 'ALT', 'QUAL', 'FILTER', 'INFO', 'FORMAT', 'NORMAL', 'TUMOR'])\n",
    "\n",
    "    return df\n",
    "\n",
    "\n",
    "snp_df = read_vcf_to_dataframe(\"C:/Users/Pavankumar/Downloads/ncbi_dataset/ncbi_dataset/data/GCF_000001405.40/somatic_output.snp.vcf\")\n",
    "indel_df = read_vcf_to_dataframe(\"C:/Users/Pavankumar/Downloads/ncbi_dataset/ncbi_dataset/data/GCF_000001405.40/somatic_output.indel.vcf\")\n",
    "\n",
    "print(f\"Total SNPs: {len(snp_df)}\")\n",
    "print(f\"Total Indels: {len(indel_df)}\")\n"
   ]
  },
  {
   "cell_type": "markdown",
   "id": "3207fa0a",
   "metadata": {},
   "source": [
    "\n",
    "## Steps 2: Calculate Background Mutation Level\n",
    "\n",
    "### Description:\n",
    "This section calculates the median background mutation level and determines the reads per million required to confidently call a mutation. The analysis uses the following inputs:\n",
    "\n",
    "### Inputs:\n",
    "- Normal tissue VCF file (`normal_variants.vcf`).\n",
    "\n",
    "- Total reads from sequencing output (e.g., 1 million).\n",
    "\n",
    "### Outputs:\n",
    "- Median background mutation level.\n",
    "\n",
    "- Reads per million required to detect a mutation.\n",
    "\n",
    "### Purpose:\n",
    "The background mutation level accounts for sequencing errors or biases, ensuring reliable mutation calling.\n",
    "\n",
    "The analysis calculates:\n",
    "1. **Median Background Mutation Level**: Reflects the frequency of mutations in normal tissue due to sequencing errors or biases.\n",
    "2. **Reads per Million**: Determines the number of reads required to confidently identify mutations.\n"
   ]
  },
  {
   "cell_type": "code",
   "execution_count": 2,
   "id": "0261b59c-bbf9-47ce-b4ee-f488ea11c9e6",
   "metadata": {},
   "outputs": [
    {
     "name": "stdout",
     "output_type": "stream",
     "text": [
      "Median Background Mutation Level: 1.0\n",
      "Reads per million required: 1000000.0\n"
     ]
    }
   ],
   "source": [
    "import numpy as np\n",
    "\n",
    "def extract_variants_from_vcf(vcf_file):\n",
    "    normal_variants = []  \n",
    "\n",
    "    with open(vcf_file) as f:\n",
    "        for line in f:\n",
    "            if line.startswith('#'):\n",
    "                continue  # Skip header lines\n",
    "            else:\n",
    "                fields = line.strip().split('\\t')\n",
    "                if len(fields) < 10:\n",
    "                    continue\n",
    "                \n",
    "                variant_data = {\n",
    "                    \"chrom\": fields[0],\n",
    "                    \"pos\": fields[1],\n",
    "                    \"ref\": fields[3],\n",
    "                    \"alt\": fields[4],\n",
    "                    \"qual\": fields[5],\n",
    "                    \"normal_genotype\": fields[9]\n",
    "                }\n",
    "                normal_variants.append(variant_data) \n",
    "\n",
    "    return normal_variants\n",
    "\n",
    "normal_variants = extract_variants_from_vcf(\"C:/Users/Pavankumar/Downloads/ncbi_dataset/ncbi_dataset/data/GCF_000001405.40/normal_variants.vcf/normal_variants.vcf\")\n",
    "\n",
    "def calculate_background_mutation_level(variants):\n",
    "    return np.median([1 for _ in variants]) if variants else 0\n",
    "\n",
    "median_background = calculate_background_mutation_level(normal_variants)\n",
    "print(f\"Median Background Mutation Level: {median_background}\")\n",
    "\n",
    "total_reads = 1000000\n",
    "num_mutations = len(normal_variants) \n",
    "\n",
    "reads_per_million = total_reads / num_mutations if num_mutations > 0 else float('inf')\n",
    "print(f\"Reads per million required: {reads_per_million}\")\n"
   ]
  },
  {
   "cell_type": "code",
   "execution_count": null,
   "id": "fc5cba05-7daa-478d-a4af-0f6727b6da71",
   "metadata": {},
   "outputs": [],
   "source": []
  }
 ],
 "metadata": {
  "kernelspec": {
   "display_name": "Python 3 (ipykernel)",
   "language": "python",
   "name": "python3"
  },
  "language_info": {
   "codemirror_mode": {
    "name": "ipython",
    "version": 3
   },
   "file_extension": ".py",
   "mimetype": "text/x-python",
   "name": "python",
   "nbconvert_exporter": "python",
   "pygments_lexer": "ipython3",
   "version": "3.12.4"
  }
 },
 "nbformat": 4,
 "nbformat_minor": 5
}
